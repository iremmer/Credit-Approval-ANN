{
 "cells": [
  {
   "cell_type": "code",
   "execution_count": 4,
   "metadata": {},
   "outputs": [],
   "source": [
    "# import sys\n",
    "# !{sys.executable} -m pip install pandas\n",
    "import pandas as pd"
   ]
  },
  {
   "cell_type": "code",
   "execution_count": 22,
   "metadata": {},
   "outputs": [],
   "source": [
    "categorical_set = {'A1': [], 'A2': [], 'A3': [], 'A4': [], 'A5': [], 'A6': [], 'A7': [], 'A8': [], 'A9': [], 'A10': [], 'A11': [], 'A12': [], 'A13': [], 'A14': [], 'A15': []}\n",
    "continuous = {'A2', 'A3', 'A8', 'A11', 'A14', 'A15'}\n",
    "categoricals = {'A1', 'A4', 'A5', 'A6', 'A7', 'A9', 'A10', 'A12', 'A13'}\n",
    "\n",
    "with open('crx.data', 'r') as data_file:\n",
    "    lines = data_file.readlines()\n",
    "data_file.close()\n",
    "\n",
    "labels = []\n",
    "attributes = list(categorical_set.keys())\n",
    "previous_line = ['a', '64.08', '0.165', 'u', 'g', 'ff', 'ff', '0', 't', 't', '01', 'f', 'g', '00232', '100']\n",
    "for line in lines:\n",
    "    record = line[:-1].split(',')\n",
    "\n",
    "    no_question_marks = 0\n",
    "    for i in range(len(attributes)):\n",
    "        key = attributes[i]\n",
    "        value = record[i]\n",
    "\n",
    "        if value == '?':\n",
    "            value = previous_line[i]\n",
    "            no_question_marks += 1\n",
    "\n",
    "        value = float(value) if key in continuous else value\n",
    "\n",
    "        categorical_set[key].append(value)\n",
    "\n",
    "    labels.append(1) if record[-1] == '+' else labels.append(-1)\n",
    "    previous_line = record if no_question_marks == 0 else previous_line\n",
    "\n",
    "data = pd.DataFrame(categorical_set)"
   ]
  },
  {
   "cell_type": "code",
   "execution_count": 23,
   "metadata": {},
   "outputs": [
    {
     "name": "stdout",
     "output_type": "stream",
     "text": [
      "        A2      A3    A8  A11    A14    A15   A7_a   A7_b   A9_l   A9_u  ...   \n",
      "0    30.83   0.000  1.25  1.0  202.0    0.0  False   True  False   True  ...  \\\n",
      "1    58.67   4.460  3.04  6.0   43.0  560.0   True  False  False   True  ...   \n",
      "2    24.50   0.500  1.50  0.0  280.0  824.0   True  False  False   True  ...   \n",
      "3    27.83   1.540  3.75  5.0  100.0    3.0  False   True  False   True  ...   \n",
      "4    20.17   5.625  1.71  0.0  120.0    0.0  False   True  False   True  ...   \n",
      "..     ...     ...   ...  ...    ...    ...    ...    ...    ...    ...  ...   \n",
      "685  21.08  10.085  1.25  0.0  260.0    0.0  False   True  False  False  ...   \n",
      "686  22.67   0.750  2.00  2.0  200.0  394.0   True  False  False   True  ...   \n",
      "687  25.25  13.500  2.00  1.0  200.0    1.0   True  False  False  False  ...   \n",
      "688  17.92   0.205  0.04  0.0  280.0  750.0  False   True  False   True  ...   \n",
      "689  35.00   3.375  8.29  0.0    0.0    0.0  False   True  False   True  ...   \n",
      "\n",
      "     A13_z  A10_f  A10_t   A6_f   A6_t   A4_f   A4_t   A5_g   A5_p   A5_s  \n",
      "0    False  False   True  False   True   True  False   True  False  False  \n",
      "1    False  False   True  False   True   True  False   True  False  False  \n",
      "2    False  False   True   True  False   True  False   True  False  False  \n",
      "3    False  False   True  False   True  False   True   True  False  False  \n",
      "4    False  False   True   True  False   True  False  False  False   True  \n",
      "..     ...    ...    ...    ...    ...    ...    ...    ...    ...    ...  \n",
      "685  False   True  False   True  False   True  False   True  False  False  \n",
      "686  False   True  False  False   True  False   True   True  False  False  \n",
      "687  False   True  False  False   True  False   True   True  False  False  \n",
      "688  False   True  False   True  False   True  False   True  False  False  \n",
      "689  False   True  False   True  False  False   True   True  False  False  \n",
      "\n",
      "[690 rows x 46 columns]\n"
     ]
    }
   ],
   "source": [
    "encoded_data = pd.get_dummies(data, categoricals)\n",
    "print(encoded_data)"
   ]
  }
 ],
 "metadata": {
  "kernelspec": {
   "display_name": "Python 3",
   "language": "python",
   "name": "python3"
  },
  "language_info": {
   "codemirror_mode": {
    "name": "ipython",
    "version": 3
   },
   "file_extension": ".py",
   "mimetype": "text/x-python",
   "name": "python",
   "nbconvert_exporter": "python",
   "pygments_lexer": "ipython3",
   "version": "3.10.11"
  },
  "orig_nbformat": 4
 },
 "nbformat": 4,
 "nbformat_minor": 2
}
